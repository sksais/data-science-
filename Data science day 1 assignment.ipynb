{
 "cells": [
  {
   "cell_type": "markdown",
   "metadata": {},
   "source": [
    "# Answer 1"
   ]
  },
  {
   "cell_type": "code",
   "execution_count": 14,
   "metadata": {},
   "outputs": [
    {
     "name": "stdout",
     "output_type": "stream",
     "text": [
      "The jumbled word is OBANWRI \n",
      "choose the correct among following :\n",
      "A.RANIBOW\n",
      "B.RAINBOW\n",
      "C.BOWRANI\n",
      "D.ROBWANI\n",
      "enter the correct option in capitals: B\n",
      "B.RAINBOW is the correct option\n"
     ]
    }
   ],
   "source": [
    "a=('A.RANIBOW')\n",
    "b=('B.RAINBOW')\n",
    "c=('C.BOWRANI')\n",
    "d=('D.ROBWANI')\n",
    "print(\"The jumbled word is OBANWRI \\nchoose the correct among following :\")\n",
    "print(a)\n",
    "print(b)\n",
    "print(c)\n",
    "print(d)\n",
    "x=input(\"enter the correct option in capitals: \")\n",
    "if x==\"B\":\n",
    "    print(b,\"is the correct option\")\n",
    "else:\n",
    "    print(\"wrong option\")\n"
   ]
  },
  {
   "cell_type": "markdown",
   "metadata": {},
   "source": [
    "# Answer 2"
   ]
  },
  {
   "cell_type": "code",
   "execution_count": 20,
   "metadata": {},
   "outputs": [
    {
     "name": "stdout",
     "output_type": "stream",
     "text": [
      "LETS UPGRADE\n"
     ]
    }
   ],
   "source": [
    "x=\"Lets upgrade\"\n",
    "print(x.upper())"
   ]
  },
  {
   "cell_type": "markdown",
   "metadata": {},
   "source": [
    "# Answer 3"
   ]
  },
  {
   "cell_type": "code",
   "execution_count": 5,
   "metadata": {},
   "outputs": [
    {
     "name": "stdout",
     "output_type": "stream",
     "text": [
      "The cost price is : 3\n",
      "The selling price : 5\n",
      "profit\n"
     ]
    }
   ],
   "source": [
    "cp=int(input(\"The cost price is : \"))\n",
    "sp=int(input(\"The selling price : \"))\n",
    "if cp>sp:\n",
    "    print(\"loss\")\n",
    "elif sp>cp:\n",
    "    print(\"profit\")\n",
    "\n",
    "else:\n",
    "    print(\"neither\")\n",
    "\n"
   ]
  },
  {
   "cell_type": "markdown",
   "metadata": {},
   "source": [
    "# Answer 4"
   ]
  },
  {
   "cell_type": "code",
   "execution_count": null,
   "metadata": {},
   "outputs": [],
   "source": []
  },
  {
   "cell_type": "code",
   "execution_count": 7,
   "metadata": {},
   "outputs": [
    {
     "name": "stdout",
     "output_type": "stream",
     "text": [
      "20\n",
      "1600\n"
     ]
    }
   ],
   "source": [
    "x=int(input())\n",
    "print(x*80)"
   ]
  },
  {
   "cell_type": "code",
   "execution_count": null,
   "metadata": {},
   "outputs": [],
   "source": []
  }
 ],
 "metadata": {
  "kernelspec": {
   "display_name": "Python 3",
   "language": "python",
   "name": "python3"
  },
  "language_info": {
   "codemirror_mode": {
    "name": "ipython",
    "version": 3
   },
   "file_extension": ".py",
   "mimetype": "text/x-python",
   "name": "python",
   "nbconvert_exporter": "python",
   "pygments_lexer": "ipython3",
   "version": "3.8.3"
  }
 },
 "nbformat": 4,
 "nbformat_minor": 4
}
